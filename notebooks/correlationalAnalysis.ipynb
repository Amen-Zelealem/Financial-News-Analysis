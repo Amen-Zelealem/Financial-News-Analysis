{
 "cells": [
  {
   "cell_type": "markdown",
   "metadata": {},
   "source": [
    "## Analyzing How News Influences Stock Market Fluctuations"
   ]
  },
  {
   "cell_type": "code",
   "execution_count": null,
   "metadata": {},
   "outputs": [],
   "source": [
    "import pandas as pd\n",
    "\n",
    "# Read the datasets\n",
    "df_news = pd.read_csv('../data/sentiment.csv')\n",
    "df_stock = pd.read_csv('../data/stock_data.csv')"
   ]
  },
  {
   "cell_type": "code",
   "execution_count": null,
   "metadata": {},
   "outputs": [],
   "source": [
    "df_news.head()"
   ]
  },
  {
   "cell_type": "code",
   "execution_count": null,
   "metadata": {},
   "outputs": [],
   "source": [
    "# Set 'Date' and 'stock' column as part of the index\n",
    "df_stock = df_stock.set_index('Date')\n",
    "df_stock = df_stock.set_index('stock', append=True)\n",
    "df_news = df_news.set_index('Date')\n",
    "df_news = df_news.set_index('stock', append=True)"
   ]
  },
  {
   "cell_type": "code",
   "execution_count": null,
   "metadata": {},
   "outputs": [],
   "source": [
    "# Align the datasets by Date and Stock\n",
    "aligned_data = pd.merge(df_stock, df_news, \n",
    "                        left_index=True, \n",
    "                        right_index=True, \n",
    "                        how='inner')"
   ]
  },
  {
   "cell_type": "code",
   "execution_count": null,
   "metadata": {},
   "outputs": [],
   "source": [
    "# Check the result with the first five rows\n",
    "aligned_data.head()"
   ]
  },
  {
   "cell_type": "code",
   "execution_count": null,
   "metadata": {},
   "outputs": [],
   "source": [
    "# Check size\n",
    "aligned_data.shape"
   ]
  },
  {
   "cell_type": "code",
   "execution_count": null,
   "metadata": {},
   "outputs": [],
   "source": [
    "# Check missing\n",
    "aligned_data.isnull().sum()"
   ]
  },
  {
   "cell_type": "code",
   "execution_count": null,
   "metadata": {},
   "outputs": [],
   "source": [
    "# Check the data types\n",
    "aligned_data.dtypes"
   ]
  },
  {
   "cell_type": "markdown",
   "metadata": {},
   "source": []
  },
  {
   "cell_type": "code",
   "execution_count": null,
   "metadata": {},
   "outputs": [],
   "source": [
    "# Ensure 'Date' is in datetime format if not already\n",
    "aligned_data.index = pd.MultiIndex.from_frame(aligned_data.index.to_frame().assign(Date=pd.to_datetime(aligned_data.index.get_level_values('Date'))))\n",
    "\n",
    "# Calculate average daily sentiment scores\n",
    "sentiment_cols = ['neg', 'neu', 'pos', 'compound']\n",
    "daily_sentiment = aligned_data.groupby(level=['Date', 'stock'])[sentiment_cols].mean()\n",
    "\n",
    "# Reset index for merging purposes\n",
    "daily_sentiment = daily_sentiment.reset_index()"
   ]
  },
  {
   "cell_type": "code",
   "execution_count": null,
   "metadata": {},
   "outputs": [],
   "source": [
    "# Save it to csv\n",
    "daily_sentiment.to_csv('../data/daily_sentiment.csv')\n",
    "daily_sentiment"
   ]
  },
  {
   "cell_type": "markdown",
   "metadata": {},
   "source": [
    "##### Calculate Stock Movements"
   ]
  },
  {
   "cell_type": "code",
   "execution_count": null,
   "metadata": {},
   "outputs": [],
   "source": [
    "daily_retun = aligned_data.reset_index()\n",
    "\n",
    "print(daily_retun[['Date', 'stock', 'Close', 'Daily_Return']])"
   ]
  },
  {
   "cell_type": "code",
   "execution_count": null,
   "metadata": {},
   "outputs": [],
   "source": [
    "# Plot sentiment scores for each stock\n",
    "import matplotlib.pyplot as plt\n",
    "stocks = daily_sentiment['stock'].unique()\n",
    "\n",
    "for stock in stocks:\n",
    "    stock_data = daily_sentiment[daily_sentiment['stock'] == stock]\n",
    "    plt.figure(figsize=(12, 6))\n",
    "    plt.plot(stock_data['Date'], stock_data['neg'], label='Negative Sentiment', color='red')\n",
    "    plt.plot(stock_data['Date'], stock_data['neu'], label='Neutral Sentiment', color='grey')\n",
    "    plt.plot(stock_data['Date'], stock_data['pos'], label='Positive Sentiment', color='green')\n",
    "    #plt.plot(stock_data['Date'], stock_data['compound'], label='Compound Sentiment', color='blue')\n",
    "    \n",
    "    plt.title(f'Sentiment Scores for {stock}')\n",
    "    plt.xlabel('Date')\n",
    "    plt.ylabel('Sentiment Score')\n",
    "    plt.legend()\n",
    "    plt.grid(True)\n",
    "    plt.xticks(rotation=45)\n",
    "    plt.tight_layout()\n",
    "    plt.show()"
   ]
  },
  {
   "cell_type": "markdown",
   "metadata": {},
   "source": [
    "#### Calculate Correlation"
   ]
  },
  {
   "cell_type": "code",
   "execution_count": null,
   "metadata": {},
   "outputs": [],
   "source": [
    "def calculate_correlation(df):\n",
    "    # Assuming 'Daily_Return' is already calculated in your DataFrame\n",
    "    sentiment_cols = ['neg', 'neu', 'pos', 'compound']\n",
    "    \n",
    "    # Calculate the correlation between sentiment scores and daily returns\n",
    "    correlations = {}\n",
    "    for col in sentiment_cols:\n",
    "        correlation = df[col].corr(df['Daily_Return'])\n",
    "        correlations[col] = correlation\n",
    "    \n",
    "    # Convert the correlations to a DataFrame for better visualization\n",
    "    correlation_df = pd.DataFrame.from_dict(correlations, orient='index', columns=['Correlation with Daily Return'])\n",
    "    \n",
    "    return correlation_df\n",
    "\n",
    "# Let's calculate the daily correlation of apple\n",
    "df = aligned_data.reset_index()\n",
    "correlation_df = calculate_correlation(df[df['stock']=='AAPL'])\n",
    "print(correlation_df)"
   ]
  }
 ],
 "metadata": {
  "language_info": {
   "name": "python"
  }
 },
 "nbformat": 4,
 "nbformat_minor": 2
}
